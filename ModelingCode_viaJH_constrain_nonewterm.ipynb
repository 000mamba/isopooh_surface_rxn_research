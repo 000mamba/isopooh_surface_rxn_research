{
 "cells": [
  {
   "cell_type": "markdown",
   "metadata": {},
   "source": [
    "fitting fu"
   ]
  },
  {
   "cell_type": "code",
   "execution_count": 1,
   "metadata": {},
   "outputs": [
    {
     "data": {
      "text/plain": [
       "'C:\\\\Users\\\\tiger'"
      ]
     },
     "execution_count": 1,
     "metadata": {},
     "output_type": "execute_result"
    }
   ],
   "source": [
    "import os\n",
    "notebook_wd = os.getcwd()\n",
    "notebook_wd"
   ]
  },
  {
   "cell_type": "code",
   "execution_count": 2,
   "metadata": {},
   "outputs": [
    {
     "data": {
      "text/plain": [
       "'C:\\\\Users\\\\tiger\\\\Desktop\\\\KeutschLab\\\\Python'"
      ]
     },
     "execution_count": 2,
     "metadata": {},
     "output_type": "execute_result"
    }
   ],
   "source": [
    "os.chdir(r'C:\\Users\\tiger\\Desktop\\KeutschLab\\Python')  #insert here code for getting to your scripts or data\n",
    "os.getcwd()"
   ]
  },
  {
   "cell_type": "code",
   "execution_count": 3,
   "metadata": {},
   "outputs": [],
   "source": [
    "import pandas as pd\n",
    "import math\n",
    "import numpy as np\n",
    "import seaborn as sns\n",
    "import matplotlib.pyplot as plt\n",
    "import matplotlib.ticker as ticker\n",
    "from matplotlib import rc\n",
    "from matplotlib.gridspec import GridSpec\n",
    "from scipy.optimize import curve_fit\n",
    "from scipy.integrate import odeint\n",
    "from lmfit import Parameters, minimize\n",
    "\n",
    "%matplotlib inline\n",
    "sns.set_context('talk')"
   ]
  },
  {
   "cell_type": "markdown",
   "metadata": {},
   "source": [
    "model function setup -- g and residuals should not change, but you should change differentials and odes according to the differential equations that you have -- make sure you change both so they're the same, or else you'll run into problems!"
   ]
  },
  {
   "cell_type": "code",
   "execution_count": 4,
   "metadata": {},
   "outputs": [],
   "source": [
    "# define model functions\n",
    "def g(t, y0, coefs, f):\n",
    "    \"\"\"\n",
    "    Solution to the ODE y'(t) = f(t,y,k) with initial condition y0\n",
    "    \"\"\"\n",
    "    y = odeint(f, y0, t, args=(coefs,))\n",
    "\n",
    "    return y\n",
    "\n",
    "# \"differentials\" contains the odes and parameters to be constrained with the model fitting\n",
    "def differentials(y, t, coefs):\n",
    "    \"\"\" Load the coefficients and build the differential equations. Coefs will be fit to the data. \"\"\"\n",
    "\n",
    "    # load all variables -- y[0], y[1]...\n",
    "    X1 = y[0]#ISOPOOH (ISOPBOOH) (1,2)\n",
    "    X2 = y[1]#HCHO\n",
    "    X3 = y[2]#MVK/MACR\n",
    "    X4 = y[3]#OH\n",
    "    #X5 = y[4]#1,2 ISOPOO\n",
    "    #X6 = y[5] #HO2\n",
    "    #X7 = y[6] # NO3\n",
    "\n",
    "    # load all coefficients -- these are defined and params.add() outside of this fn.\n",
    "    #1,2 ISOPOOH + OH --> IEPOX + OH\n",
    "    k1 = (5.00 * 10 ** -11) * 0.92 #coefs['k1'].value\n",
    "    #1,2 ISOPOOH + OH --> 1,2 ISOPOO\n",
    "    k2 = (5.00 * 10 ** -11) * 0.08 #coefs['k2'].value\n",
    "    #1,2 ISOPOO + HO2 --> 1,2 ISOPOOH\n",
    "    #k3 = KRO2HO2*0.706 #coefs['k3'].value\n",
    "    #1,2 ISOPOOH --> HCHO + MVK\n",
    "    #k4 = coefs['k4'].value\n",
    "    #HCHO + OH --> CO + HO2\n",
    "    #k5 = (5.40 * 10 ** -12) * np.exp(135/T)\n",
    "    #HCHO + NO3 --> HNO3 + CO + HO2\n",
    "    #k6 = 5.5 * 10 ** -16\n",
    "    dil = coefs['dil'].value\n",
    "\n",
    "    # create list of differential equations\n",
    "    #ISOPOOH\n",
    "    dX1dt = - k1 * X1 * X4 - k2 * X1 * X4 - dil * X1 #- k4 * X1#+ k3 * X5 + X6 \n",
    "    #HCHO\n",
    "    dX2dt = -dil * X2 #k4 * X1 #- k5 * X2 * X4 - k6 * X2 * X7\n",
    "    #MVK/MACR\n",
    "    dX3dt = -dil * X3 #k4 * X1\n",
    "    #OH\n",
    "    dX4dt = dOHdt[int(t/15)]/15\n",
    "    #dX4dt = A * math.sin(b*t) + c * t\n",
    "    \n",
    "\n",
    "    return [dX1dt, dX2dt, dX3dt, dX4dt]\n",
    "\n",
    "def residuals(coefs, t, data):\n",
    "    \"\"\" Calculates the residuals of the function. \"\"\"\n",
    "    # load all values defined outside of this fn for each variable at t_start. y0 should match order in y[] above.\n",
    "    y0 = [coefs['X1_0'].value, coefs['X2_0'].value, coefs['X3_0'].value, coefs['X4_0'].value]\n",
    "\n",
    "    # calculates solution to odes, which will be compared against data in the return to get residuals.\n",
    "    model = g(t, y0, coefs, differentials).T\n",
    "\n",
    "    return (model - data).ravel()\n",
    "\n",
    "\n",
    "def odes(ts, coefs):\n",
    "    \"\"\" Recreates the odes above to produce the best fit solution. \"\"\"\n",
    "    def odes(y, t):\n",
    "        X1, X2, X3, X4 = y\n",
    "        \n",
    "        # coefs numbering starts at # of initial conditions.\n",
    "        dydt = [-coefs[4] * X1 * X4 - coefs[5] * X1 * X4 - coefs[6] * X1, -coefs[6] * X2,\\\n",
    "                -coefs[6] * X3, dOHdt[int(t/15-48)]/15]\n",
    "        \"\"\"dydt = [-coefs[4] * X1 * X4 - coefs[5] * X1 * X4 - coefs[6] * X1,\\\n",
    "                coefs[6] * X1, coefs[6] * X1,\\\n",
    "                coefs[7] * math.sin(coefs[8] * t) + coefs[9] * t]\n",
    "                \"\"\"\n",
    "        \n",
    "        return dydt\n",
    "\n",
    "    solution = odeint(odes, y0=coefs[0:4], t=ts)#.reshape(-1)\n",
    "\n",
    "    return solution"
   ]
  },
  {
   "cell_type": "markdown",
   "metadata": {},
   "source": [
    "this is a function that i made to spit out parameters (k), inputting the residuals function and your dataframe. xs should be time, and ys should be for starters, isopooh. check formatting!"
   ]
  },
  {
   "cell_type": "code",
   "execution_count": 5,
   "metadata": {},
   "outputs": [],
   "source": [
    "def get_coefficients_with_lmfit(residuals_function, params, df, x_col_name, y_col_names):\n",
    "    \"\"\"Fit parameters (params) with lmfit minimize package. Takes in data (df) as observations for constraining,\n",
    "    and residuals function (residuals_function) which calculates the residuals on params through constraining routine.\n",
    "    Residuals_function contains the required model functions that explain the params.\n",
    "\n",
    "    :param residuals_function:\n",
    "    :param params: Parameters. lmfit parameters object, in which each parameter corresponds to\n",
    "    a \"coefficient\" to be fit.\n",
    "    :param df: dataframe. Contains x_col_name (time values, usually) and y_col_names (corresponding variables).\n",
    "    :param x_col_name: str. Column name containing x variable. Usually column of times at which y values are measured.\n",
    "    :param y_col_names: List of str. Column names containing y variables. Must be ordered as written in model functions.\n",
    "    :return: results. dict? typical of lmfit, contains the fits and standard errors of fits.\n",
    "    \"\"\"\n",
    "\n",
    "    xs = df[x_col_name].values\n",
    "    ys = []\n",
    "    for y_col in y_col_names:\n",
    "        ys.append(df[y_col].values)\n",
    "    ys = np.asarray(ys)\n",
    "\n",
    "    results = minimize(residuals_function, params, args=(xs, ys), method='leastsq', nan_policy='raise')\n",
    "    return results"
   ]
  },
  {
   "cell_type": "markdown",
   "metadata": {},
   "source": [
    "this is the actual code that you run the functions with"
   ]
  },
  {
   "cell_type": "code",
   "execution_count": 6,
   "metadata": {},
   "outputs": [
    {
     "name": "stdout",
     "output_type": "stream",
     "text": [
      "0      6.50\n",
      "1      6.75\n",
      "2      7.00\n",
      "3      7.25\n",
      "4      7.50\n",
      "5      7.75\n",
      "6      8.00\n",
      "7      8.25\n",
      "8      8.50\n",
      "9      8.75\n",
      "10     9.00\n",
      "11     9.25\n",
      "12     9.50\n",
      "13     9.75\n",
      "14    10.00\n",
      "15    10.25\n",
      "16    10.50\n",
      "17    10.75\n",
      "18    11.00\n",
      "19    11.25\n",
      "20    11.50\n",
      "21    11.75\n",
      "22    12.00\n",
      "23    12.25\n",
      "24    12.50\n",
      "25    12.75\n",
      "26    13.00\n",
      "27    13.25\n",
      "28    13.50\n",
      "29    13.75\n",
      "30    14.00\n",
      "31    14.25\n",
      "32    14.50\n",
      "33    14.75\n",
      "Name: TM, dtype: float64\n"
     ]
    }
   ],
   "source": [
    "## import your data first\n",
    "ISOPOOH_1_2 = pd.read_csv (r'treated_data\\ISOPOOHexperiment_1_2.csv')\n",
    "print (ISOPOOH_1_2[\"TM\"])\n",
    "#print(ISOPOOH_1_2[\"DOAS_OH\"])\n",
    "ISOPOOH_1_2\n",
    "\n",
    "#I need to cut the dataframe\n",
    "relevant_species = [\"TM\", \"M_ISOPBOOH_PTR\",\"DOAS_HCHO\", \"M_MVK_MACR_PTR\", \"DOAS_OH\"]\n"
   ]
  },
  {
   "cell_type": "code",
   "execution_count": 18,
   "metadata": {},
   "outputs": [
    {
     "name": "stdout",
     "output_type": "stream",
     "text": [
      "range(10, 34)\n",
      "       TM  M_ISOPBOOH_PTR  DOAS_HCHO  M_MVK_MACR_PTR   DOAS_OH\n",
      "0   12.00       19.833800   8.725928       19.833800  0.000098\n",
      "1   12.25       18.424200   9.959747       18.424200  0.000104\n",
      "2   12.50       16.580867  10.440437       16.580867  0.000110\n",
      "3   12.75       15.600667  10.775586       15.600667  0.000115\n",
      "4   13.00       14.486133  10.714311       14.486133  0.000109\n",
      "5   13.25       13.890733  10.510309       13.890733  0.000172\n",
      "6   13.50       13.318267  10.548607       13.318267  0.000172\n",
      "7   13.75       12.368867  10.661994       12.368867  0.000116\n",
      "8   14.00       11.763267  10.682101       11.763267  0.000147\n",
      "9   14.25       10.951933  10.702669       10.951933  0.000148\n",
      "10  14.50       10.310533  10.599999       10.310533  0.000121\n",
      "11  14.75        9.927387  10.546241        9.927387  0.000057\n",
      "0     6.060579e-06\n",
      "1     6.310956e-06\n",
      "2     4.355270e-06\n",
      "3    -5.325913e-06\n",
      "4     6.301398e-05\n",
      "5    -4.044227e-07\n",
      "6    -5.605803e-05\n",
      "7     3.120092e-05\n",
      "8     8.229229e-07\n",
      "9    -2.669090e-05\n",
      "10   -6.389662e-05\n",
      "11    0.000000e+00\n",
      "Name: DOAS_OH, dtype: float64\n",
      "[ 0.  1.  2.  3.  4.  5.  6.  7.  8.  9. 10.]\n"
     ]
    }
   ],
   "source": [
    "ISOPOOH_1_2_mdl_input = pd.DataFrame()\n",
    "print(range(10,len(ISOPOOH_1_2)))\n",
    "for species in relevant_species:\n",
    "    ISOPOOH_1_2_mdl_input[species] = ISOPOOH_1_2[species][22:]\n",
    "ISOPOOH_1_2_mdl_input = ISOPOOH_1_2_mdl_input.reset_index(drop = True)\n",
    "\n",
    "print(ISOPOOH_1_2_mdl_input)\n",
    "dOHdt = ISOPOOH_1_2_mdl_input[\"DOAS_OH\"].diff()[1:]\n",
    "dOHdt[-1] = 0\n",
    "dOHdt = dOHdt.reset_index(drop =True)\n",
    "print(dOHdt)\n",
    "print(np.arange(720, 885, 15)/15 - 48)"
   ]
  },
  {
   "cell_type": "code",
   "execution_count": 8,
   "metadata": {},
   "outputs": [
    {
     "name": "stdout",
     "output_type": "stream",
     "text": [
      "[10]\n",
      "1.5249269297365572e-05\n",
      "[]\n"
     ]
    }
   ],
   "source": [
    "print(ISOPOOH_1_2[ISOPOOH_1_2[\"TM\"]==9.00].index.values)\n",
    "print(ISOPOOH_1_2[\"DOAS_OH\"][10])\n",
    "print(ISOPOOH_1_2_mdl_input[ISOPOOH_1_2_mdl_input[\"TM\"]==9.00].index.values)"
   ]
  },
  {
   "cell_type": "code",
   "execution_count": 20,
   "metadata": {},
   "outputs": [],
   "source": [
    "# define the time series (t_min = 10 because that's when the first measurement was taken with NMR)\n",
    "ISOPOOH_1_2_mdl_input[\"TM_min\"] = ISOPOOH_1_2_mdl_input[\"TM\"] * 60\n",
    "t_min = 720#minutes\n",
    "t_max = 885# minutes\n",
    "t_step = 15\n",
    "ts = np.arange(t_min, t_max,t_step)\n",
    "\n",
    "# define the initial conditions\n",
    "start = 12\n",
    "isopooh0 = ISOPOOH_1_2_mdl_input[\"M_ISOPBOOH_PTR\"][0]\n",
    "X20 = ISOPOOH_1_2_mdl_input[\"DOAS_HCHO\"][0]\n",
    "X30 = ISOPOOH_1_2_mdl_input[\"M_MVK_MACR_PTR\"][0]\n",
    "#idx = 0\n",
    "X40 = ISOPOOH_1_2_mdl_input[\"DOAS_OH\"][0]\n",
    "\n",
    "#1,2 ISOPOOH + OH --> IEPOX + OH\n",
    "k1 = (5.00 * 10 ** -11) * 0.92 #coefs['k1'].value\n",
    "#1,2 ISOPOOH + OH --> 1,2 ISOPOO\n",
    "k2 = (5.00 * 10 ** -11) * 0.08 #coefs['k2'].value\n",
    "#1,2 ISOPOO + HO2 --> 1,2 ISOPOOH\n",
    "#k3 = KRO2HO2*0.706 #coefs['k3'].value\n",
    "#1,2 ISOPOOH --> HCHO + MVK\n",
    "#k4 = coefs['k4'].value\n",
    "\n",
    "# input the parameters\n",
    "params = Parameters()\n",
    "params.add('X1_0', value=isopooh0, vary=False)\n",
    "params.add('X2_0', value=X20, vary=False)\n",
    "params.add('X3_0', value=X30, vary=False)\n",
    "#params.add('idx',value = 0, vary=False)\n",
    "params.add('X4_0', value=X40, vary=False)\n",
    "params.add('k1', value = k1, vary=False)\n",
    "params.add('k2', value = k2, vary=False)\n",
    "params.add('dil',value = .1/345600, vary=False)\n",
    "#params.add('k4', value=.05, min=0, vary=True)\n"
   ]
  },
  {
   "cell_type": "code",
   "execution_count": 21,
   "metadata": {},
   "outputs": [
    {
     "name": "stdout",
     "output_type": "stream",
     "text": [
      "[19.8338, 8.725928338309004, 19.8338, 9.792312427138336e-05, 4.5999999999999996e-11, 4e-12, 2.8935185185185185e-07]\n"
     ]
    },
    {
     "data": {
      "text/html": [
       "<table><tr><th> name </th><th> value </th><th> initial value </th><th> min </th><th> max </th><th> vary </th></tr><tr><td> X1_0 </td><td>  19.8338000 </td><td> 19.8338 </td><td>        -inf </td><td>         inf </td><td> False </td></tr><tr><td> X2_0 </td><td>  8.72592834 </td><td> 8.725928338309004 </td><td>        -inf </td><td>         inf </td><td> False </td></tr><tr><td> X3_0 </td><td>  19.8338000 </td><td> 19.8338 </td><td>        -inf </td><td>         inf </td><td> False </td></tr><tr><td> X4_0 </td><td>  9.7923e-05 </td><td> 9.792312427138336e-05 </td><td>        -inf </td><td>         inf </td><td> False </td></tr><tr><td> k1 </td><td>  4.6000e-11 </td><td> 4.5999999999999996e-11 </td><td>        -inf </td><td>         inf </td><td> False </td></tr><tr><td> k2 </td><td>  4.0000e-12 </td><td> 4e-12 </td><td>        -inf </td><td>         inf </td><td> False </td></tr><tr><td> dil </td><td>  2.8935e-07 </td><td> 2.8935185185185185e-07 </td><td>        -inf </td><td>         inf </td><td> False </td></tr></table>"
      ],
      "text/plain": [
       "Parameters([('X1_0',\n",
       "             <Parameter 'X1_0', value=19.8338 (fixed), bounds=[-inf:inf]>),\n",
       "            ('X2_0',\n",
       "             <Parameter 'X2_0', value=8.725928338309004 (fixed), bounds=[-inf:inf]>),\n",
       "            ('X3_0',\n",
       "             <Parameter 'X3_0', value=19.8338 (fixed), bounds=[-inf:inf]>),\n",
       "            ('X4_0',\n",
       "             <Parameter 'X4_0', value=9.792312427138336e-05 (fixed), bounds=[-inf:inf]>),\n",
       "            ('k1',\n",
       "             <Parameter 'k1', value=4.5999999999999996e-11 (fixed), bounds=[-inf:inf]>),\n",
       "            ('k2', <Parameter 'k2', value=4e-12 (fixed), bounds=[-inf:inf]>),\n",
       "            ('dil',\n",
       "             <Parameter 'dil', value=2.8935185185185185e-07 (fixed), bounds=[-inf:inf]>)])"
      ]
     },
     "execution_count": 21,
     "metadata": {},
     "output_type": "execute_result"
    }
   ],
   "source": [
    "# perform the fitting with custom-built wrapper\n",
    "results = get_coefficients_with_lmfit(residuals_function=residuals, \n",
    "                                      params=params, \n",
    "                                      df=ISOPOOH_1_2_mdl_input, \n",
    "                                      x_col_name= \"TM\", \n",
    "                                      y_col_names=[\"M_ISOPBOOH_PTR\",\"DOAS_HCHO\", \"M_MVK_MACR_PTR\", \"DOAS_OH\"])\n",
    "\n",
    "# store the coefficients\n",
    "coefs = []\n",
    "for key in results.params:\n",
    "    coefs.append(results.params[key].value)\n",
    "    \n",
    "print(coefs)\n",
    "results.params"
   ]
  },
  {
   "cell_type": "code",
   "execution_count": 26,
   "metadata": {},
   "outputs": [
    {
     "name": "stdout",
     "output_type": "stream",
     "text": [
      "[720 735 750 765 780 795 810 825 840 855 870]\n",
      "6.060578678016631e-06\n",
      "6.310956276100012e-06\n",
      "4.355270188899989e-06\n",
      "-5.325913330399992e-06\n",
      "6.30139810613e-05\n",
      "-4.0442273970000783e-07\n",
      "-5.60580255221e-05\n",
      "3.1200922767900014e-05\n",
      "8.229228769999857e-07\n",
      "-2.6690896510199997e-05\n",
      "-6.389662020058062e-05\n"
     ]
    }
   ],
   "source": [
    "print(ts)\n",
    "\n",
    "for number in ts:\n",
    "    print(dOHdt[number/15-48])"
   ]
  },
  {
   "cell_type": "code",
   "execution_count": 27,
   "metadata": {},
   "outputs": [
    {
     "ename": "KeyError",
     "evalue": "60",
     "output_type": "error",
     "traceback": [
      "\u001b[1;31m---------------------------------------------------------------------------\u001b[0m",
      "\u001b[1;31mValueError\u001b[0m                                Traceback (most recent call last)",
      "\u001b[1;32m~\\anaconda3\\envs\\ISOPOOH\\lib\\site-packages\\pandas\\core\\indexes\\range.py\u001b[0m in \u001b[0;36mget_loc\u001b[1;34m(self, key, method, tolerance)\u001b[0m\n\u001b[0;32m    384\u001b[0m                 \u001b[1;32mtry\u001b[0m\u001b[1;33m:\u001b[0m\u001b[1;33m\u001b[0m\u001b[1;33m\u001b[0m\u001b[0m\n\u001b[1;32m--> 385\u001b[1;33m                     \u001b[1;32mreturn\u001b[0m \u001b[0mself\u001b[0m\u001b[1;33m.\u001b[0m\u001b[0m_range\u001b[0m\u001b[1;33m.\u001b[0m\u001b[0mindex\u001b[0m\u001b[1;33m(\u001b[0m\u001b[0mnew_key\u001b[0m\u001b[1;33m)\u001b[0m\u001b[1;33m\u001b[0m\u001b[1;33m\u001b[0m\u001b[0m\n\u001b[0m\u001b[0;32m    386\u001b[0m                 \u001b[1;32mexcept\u001b[0m \u001b[0mValueError\u001b[0m \u001b[1;32mas\u001b[0m \u001b[0merr\u001b[0m\u001b[1;33m:\u001b[0m\u001b[1;33m\u001b[0m\u001b[1;33m\u001b[0m\u001b[0m\n",
      "\u001b[1;31mValueError\u001b[0m: 60 is not in range",
      "\nThe above exception was the direct cause of the following exception:\n",
      "\u001b[1;31mKeyError\u001b[0m                                  Traceback (most recent call last)",
      "\u001b[1;32m~\\AppData\\Local\\Temp/ipykernel_73300/3490419339.py\u001b[0m in \u001b[0;36m<module>\u001b[1;34m\u001b[0m\n\u001b[1;32m----> 1\u001b[1;33m \u001b[0msolutions\u001b[0m \u001b[1;33m=\u001b[0m \u001b[0modes\u001b[0m\u001b[1;33m(\u001b[0m\u001b[0mts\u001b[0m\u001b[1;33m,\u001b[0m \u001b[0mcoefs\u001b[0m\u001b[1;33m)\u001b[0m\u001b[1;33m\u001b[0m\u001b[1;33m\u001b[0m\u001b[0m\n\u001b[0m\u001b[0;32m      2\u001b[0m \u001b[0mimportant_species\u001b[0m \u001b[1;33m=\u001b[0m \u001b[1;33m[\u001b[0m\u001b[1;34m\"M_ISOPBOOH_PTR\"\u001b[0m\u001b[1;33m,\u001b[0m\u001b[1;34m\"DOAS_HCHO\"\u001b[0m\u001b[1;33m,\u001b[0m \u001b[1;34m\"M_MVK_MACR_PTR\"\u001b[0m\u001b[1;33m,\u001b[0m \u001b[1;34m\"DOAS_OH\"\u001b[0m\u001b[1;33m]\u001b[0m\u001b[1;33m\u001b[0m\u001b[1;33m\u001b[0m\u001b[0m\n\u001b[0;32m      3\u001b[0m \u001b[0mmdl_results\u001b[0m \u001b[1;33m=\u001b[0m \u001b[0mpd\u001b[0m\u001b[1;33m.\u001b[0m\u001b[0mDataFrame\u001b[0m\u001b[1;33m(\u001b[0m\u001b[1;33m)\u001b[0m\u001b[1;33m\u001b[0m\u001b[1;33m\u001b[0m\u001b[0m\n\u001b[0;32m      4\u001b[0m \u001b[1;33m\u001b[0m\u001b[0m\n\u001b[0;32m      5\u001b[0m \u001b[1;32mfor\u001b[0m \u001b[0mi\u001b[0m \u001b[1;32min\u001b[0m \u001b[0mrange\u001b[0m\u001b[1;33m(\u001b[0m\u001b[0mlen\u001b[0m\u001b[1;33m(\u001b[0m\u001b[0mimportant_species\u001b[0m\u001b[1;33m)\u001b[0m\u001b[1;33m)\u001b[0m\u001b[1;33m:\u001b[0m\u001b[1;33m\u001b[0m\u001b[1;33m\u001b[0m\u001b[0m\n",
      "\u001b[1;32m~\\AppData\\Local\\Temp/ipykernel_73300/132167837.py\u001b[0m in \u001b[0;36modes\u001b[1;34m(ts, coefs)\u001b[0m\n\u001b[0;32m     76\u001b[0m         \u001b[1;32mreturn\u001b[0m \u001b[0mdydt\u001b[0m\u001b[1;33m\u001b[0m\u001b[1;33m\u001b[0m\u001b[0m\n\u001b[0;32m     77\u001b[0m \u001b[1;33m\u001b[0m\u001b[0m\n\u001b[1;32m---> 78\u001b[1;33m     \u001b[0msolution\u001b[0m \u001b[1;33m=\u001b[0m \u001b[0modeint\u001b[0m\u001b[1;33m(\u001b[0m\u001b[0modes\u001b[0m\u001b[1;33m,\u001b[0m \u001b[0my0\u001b[0m\u001b[1;33m=\u001b[0m\u001b[0mcoefs\u001b[0m\u001b[1;33m[\u001b[0m\u001b[1;36m0\u001b[0m\u001b[1;33m:\u001b[0m\u001b[1;36m4\u001b[0m\u001b[1;33m]\u001b[0m\u001b[1;33m,\u001b[0m \u001b[0mt\u001b[0m\u001b[1;33m=\u001b[0m\u001b[0mts\u001b[0m\u001b[1;33m)\u001b[0m\u001b[1;31m#.reshape(-1)\u001b[0m\u001b[1;33m\u001b[0m\u001b[1;33m\u001b[0m\u001b[0m\n\u001b[0m\u001b[0;32m     79\u001b[0m \u001b[1;33m\u001b[0m\u001b[0m\n\u001b[0;32m     80\u001b[0m     \u001b[1;32mreturn\u001b[0m \u001b[0msolution\u001b[0m\u001b[1;33m\u001b[0m\u001b[1;33m\u001b[0m\u001b[0m\n",
      "\u001b[1;32m~\\anaconda3\\envs\\ISOPOOH\\lib\\site-packages\\scipy\\integrate\\odepack.py\u001b[0m in \u001b[0;36modeint\u001b[1;34m(func, y0, t, args, Dfun, col_deriv, full_output, ml, mu, rtol, atol, tcrit, h0, hmax, hmin, ixpr, mxstep, mxhnil, mxordn, mxords, printmessg, tfirst)\u001b[0m\n\u001b[0;32m    242\u001b[0m                              \u001b[0mfull_output\u001b[0m\u001b[1;33m,\u001b[0m \u001b[0mrtol\u001b[0m\u001b[1;33m,\u001b[0m \u001b[0matol\u001b[0m\u001b[1;33m,\u001b[0m \u001b[0mtcrit\u001b[0m\u001b[1;33m,\u001b[0m \u001b[0mh0\u001b[0m\u001b[1;33m,\u001b[0m \u001b[0mhmax\u001b[0m\u001b[1;33m,\u001b[0m \u001b[0mhmin\u001b[0m\u001b[1;33m,\u001b[0m\u001b[1;33m\u001b[0m\u001b[1;33m\u001b[0m\u001b[0m\n\u001b[0;32m    243\u001b[0m                              \u001b[0mixpr\u001b[0m\u001b[1;33m,\u001b[0m \u001b[0mmxstep\u001b[0m\u001b[1;33m,\u001b[0m \u001b[0mmxhnil\u001b[0m\u001b[1;33m,\u001b[0m \u001b[0mmxordn\u001b[0m\u001b[1;33m,\u001b[0m \u001b[0mmxords\u001b[0m\u001b[1;33m,\u001b[0m\u001b[1;33m\u001b[0m\u001b[1;33m\u001b[0m\u001b[0m\n\u001b[1;32m--> 244\u001b[1;33m                              int(bool(tfirst)))\n\u001b[0m\u001b[0;32m    245\u001b[0m     \u001b[1;32mif\u001b[0m \u001b[0moutput\u001b[0m\u001b[1;33m[\u001b[0m\u001b[1;33m-\u001b[0m\u001b[1;36m1\u001b[0m\u001b[1;33m]\u001b[0m \u001b[1;33m<\u001b[0m \u001b[1;36m0\u001b[0m\u001b[1;33m:\u001b[0m\u001b[1;33m\u001b[0m\u001b[1;33m\u001b[0m\u001b[0m\n\u001b[0;32m    246\u001b[0m         \u001b[0mwarning_msg\u001b[0m \u001b[1;33m=\u001b[0m \u001b[0m_msgs\u001b[0m\u001b[1;33m[\u001b[0m\u001b[0moutput\u001b[0m\u001b[1;33m[\u001b[0m\u001b[1;33m-\u001b[0m\u001b[1;36m1\u001b[0m\u001b[1;33m]\u001b[0m\u001b[1;33m]\u001b[0m \u001b[1;33m+\u001b[0m \u001b[1;34m\" Run with full_output = 1 to get quantitative information.\"\u001b[0m\u001b[1;33m\u001b[0m\u001b[1;33m\u001b[0m\u001b[0m\n",
      "\u001b[1;32m~\\AppData\\Local\\Temp/ipykernel_73300/132167837.py\u001b[0m in \u001b[0;36modes\u001b[1;34m(y, t)\u001b[0m\n\u001b[0;32m     68\u001b[0m         \u001b[1;31m# coefs numbering starts at # of initial conditions.\u001b[0m\u001b[1;33m\u001b[0m\u001b[1;33m\u001b[0m\u001b[1;33m\u001b[0m\u001b[0m\n\u001b[0;32m     69\u001b[0m         dydt = [-coefs[4] * X1 * X4 - coefs[5] * X1 * X4 - coefs[6] * X1, -coefs[6] * X2,\\\n\u001b[1;32m---> 70\u001b[1;33m                 -coefs[6] * X3, dOHdt[int(t/15-47)]/15]\n\u001b[0m\u001b[0;32m     71\u001b[0m         \"\"\"dydt = [-coefs[4] * X1 * X4 - coefs[5] * X1 * X4 - coefs[6] * X1,\\\n\u001b[0;32m     72\u001b[0m                 \u001b[0mcoefs\u001b[0m\u001b[1;33m[\u001b[0m\u001b[1;36m6\u001b[0m\u001b[1;33m]\u001b[0m \u001b[1;33m*\u001b[0m \u001b[0mX1\u001b[0m\u001b[1;33m,\u001b[0m \u001b[0mcoefs\u001b[0m\u001b[1;33m[\u001b[0m\u001b[1;36m6\u001b[0m\u001b[1;33m]\u001b[0m \u001b[1;33m*\u001b[0m \u001b[0mX1\u001b[0m\u001b[1;33m,\u001b[0m\u001b[0;31m\\\u001b[0m\u001b[1;33m\u001b[0m\u001b[1;33m\u001b[0m\u001b[0m\n",
      "\u001b[1;32m~\\anaconda3\\envs\\ISOPOOH\\lib\\site-packages\\pandas\\core\\series.py\u001b[0m in \u001b[0;36m__getitem__\u001b[1;34m(self, key)\u001b[0m\n\u001b[0;32m    940\u001b[0m \u001b[1;33m\u001b[0m\u001b[0m\n\u001b[0;32m    941\u001b[0m         \u001b[1;32melif\u001b[0m \u001b[0mkey_is_scalar\u001b[0m\u001b[1;33m:\u001b[0m\u001b[1;33m\u001b[0m\u001b[1;33m\u001b[0m\u001b[0m\n\u001b[1;32m--> 942\u001b[1;33m             \u001b[1;32mreturn\u001b[0m \u001b[0mself\u001b[0m\u001b[1;33m.\u001b[0m\u001b[0m_get_value\u001b[0m\u001b[1;33m(\u001b[0m\u001b[0mkey\u001b[0m\u001b[1;33m)\u001b[0m\u001b[1;33m\u001b[0m\u001b[1;33m\u001b[0m\u001b[0m\n\u001b[0m\u001b[0;32m    943\u001b[0m \u001b[1;33m\u001b[0m\u001b[0m\n\u001b[0;32m    944\u001b[0m         \u001b[1;32mif\u001b[0m \u001b[0mis_hashable\u001b[0m\u001b[1;33m(\u001b[0m\u001b[0mkey\u001b[0m\u001b[1;33m)\u001b[0m\u001b[1;33m:\u001b[0m\u001b[1;33m\u001b[0m\u001b[1;33m\u001b[0m\u001b[0m\n",
      "\u001b[1;32m~\\anaconda3\\envs\\ISOPOOH\\lib\\site-packages\\pandas\\core\\series.py\u001b[0m in \u001b[0;36m_get_value\u001b[1;34m(self, label, takeable)\u001b[0m\n\u001b[0;32m   1049\u001b[0m \u001b[1;33m\u001b[0m\u001b[0m\n\u001b[0;32m   1050\u001b[0m         \u001b[1;31m# Similar to Index.get_value, but we do not fall back to positional\u001b[0m\u001b[1;33m\u001b[0m\u001b[1;33m\u001b[0m\u001b[1;33m\u001b[0m\u001b[0m\n\u001b[1;32m-> 1051\u001b[1;33m         \u001b[0mloc\u001b[0m \u001b[1;33m=\u001b[0m \u001b[0mself\u001b[0m\u001b[1;33m.\u001b[0m\u001b[0mindex\u001b[0m\u001b[1;33m.\u001b[0m\u001b[0mget_loc\u001b[0m\u001b[1;33m(\u001b[0m\u001b[0mlabel\u001b[0m\u001b[1;33m)\u001b[0m\u001b[1;33m\u001b[0m\u001b[1;33m\u001b[0m\u001b[0m\n\u001b[0m\u001b[0;32m   1052\u001b[0m         \u001b[1;32mreturn\u001b[0m \u001b[0mself\u001b[0m\u001b[1;33m.\u001b[0m\u001b[0mindex\u001b[0m\u001b[1;33m.\u001b[0m\u001b[0m_get_values_for_loc\u001b[0m\u001b[1;33m(\u001b[0m\u001b[0mself\u001b[0m\u001b[1;33m,\u001b[0m \u001b[0mloc\u001b[0m\u001b[1;33m,\u001b[0m \u001b[0mlabel\u001b[0m\u001b[1;33m)\u001b[0m\u001b[1;33m\u001b[0m\u001b[1;33m\u001b[0m\u001b[0m\n\u001b[0;32m   1053\u001b[0m \u001b[1;33m\u001b[0m\u001b[0m\n",
      "\u001b[1;32m~\\anaconda3\\envs\\ISOPOOH\\lib\\site-packages\\pandas\\core\\indexes\\range.py\u001b[0m in \u001b[0;36mget_loc\u001b[1;34m(self, key, method, tolerance)\u001b[0m\n\u001b[0;32m    385\u001b[0m                     \u001b[1;32mreturn\u001b[0m \u001b[0mself\u001b[0m\u001b[1;33m.\u001b[0m\u001b[0m_range\u001b[0m\u001b[1;33m.\u001b[0m\u001b[0mindex\u001b[0m\u001b[1;33m(\u001b[0m\u001b[0mnew_key\u001b[0m\u001b[1;33m)\u001b[0m\u001b[1;33m\u001b[0m\u001b[1;33m\u001b[0m\u001b[0m\n\u001b[0;32m    386\u001b[0m                 \u001b[1;32mexcept\u001b[0m \u001b[0mValueError\u001b[0m \u001b[1;32mas\u001b[0m \u001b[0merr\u001b[0m\u001b[1;33m:\u001b[0m\u001b[1;33m\u001b[0m\u001b[1;33m\u001b[0m\u001b[0m\n\u001b[1;32m--> 387\u001b[1;33m                     \u001b[1;32mraise\u001b[0m \u001b[0mKeyError\u001b[0m\u001b[1;33m(\u001b[0m\u001b[0mkey\u001b[0m\u001b[1;33m)\u001b[0m \u001b[1;32mfrom\u001b[0m \u001b[0merr\u001b[0m\u001b[1;33m\u001b[0m\u001b[1;33m\u001b[0m\u001b[0m\n\u001b[0m\u001b[0;32m    388\u001b[0m             \u001b[1;32mraise\u001b[0m \u001b[0mKeyError\u001b[0m\u001b[1;33m(\u001b[0m\u001b[0mkey\u001b[0m\u001b[1;33m)\u001b[0m\u001b[1;33m\u001b[0m\u001b[1;33m\u001b[0m\u001b[0m\n\u001b[0;32m    389\u001b[0m         \u001b[1;32mreturn\u001b[0m \u001b[0msuper\u001b[0m\u001b[1;33m(\u001b[0m\u001b[1;33m)\u001b[0m\u001b[1;33m.\u001b[0m\u001b[0mget_loc\u001b[0m\u001b[1;33m(\u001b[0m\u001b[0mkey\u001b[0m\u001b[1;33m,\u001b[0m \u001b[0mmethod\u001b[0m\u001b[1;33m=\u001b[0m\u001b[0mmethod\u001b[0m\u001b[1;33m,\u001b[0m \u001b[0mtolerance\u001b[0m\u001b[1;33m=\u001b[0m\u001b[0mtolerance\u001b[0m\u001b[1;33m)\u001b[0m\u001b[1;33m\u001b[0m\u001b[1;33m\u001b[0m\u001b[0m\n",
      "\u001b[1;31mKeyError\u001b[0m: 60"
     ]
    }
   ],
   "source": [
    "solutions = odes(ts, coefs)\n",
    "important_species = [\"M_ISOPBOOH_PTR\",\"DOAS_HCHO\", \"M_MVK_MACR_PTR\", \"DOAS_OH\"]\n",
    "mdl_results = pd.DataFrame()\n",
    "\n",
    "for i in range(len(important_species)):\n",
    "    mdl_results[important_species[i]] = solutions[:,i]\n",
    "    \n",
    "mdl_results[\"TM\"] = ISOPOOH_1_2_mdl_input[\"TM\"]\n",
    "print(mdl_results[\"DOAS_OH\"])\n",
    "print(ISOPOOH_1_2_mdl_input[\"DOAS_OH\"])\n",
    "#how do i properly constrain this?\n",
    "print(dOHdt)\n",
    "print(mdl_results[\"DOAS_OH\"].diff())"
   ]
  },
  {
   "cell_type": "code",
   "execution_count": null,
   "metadata": {},
   "outputs": [],
   "source": [
    "plt.plot(mdl_results[\"TM\"], mdl_results[\"M_ISOPBOOH_PTR\"])\n",
    "plt.plot(ISOPOOH_1_2_mdl_input[\"TM\"], ISOPOOH_1_2_mdl_input[\"M_ISOPBOOH_PTR\"])\n",
    "plt.ylabel(\"PPB\")\n",
    "plt.xlabel(\"Model Time\")\n",
    "plt.legend([\"Model\",\"Obs\"])\n",
    "plt.title(\"1,2-ISOPOOH\")"
   ]
  },
  {
   "cell_type": "code",
   "execution_count": null,
   "metadata": {},
   "outputs": [],
   "source": [
    "plt.plot(mdl_results[\"TM\"], mdl_results[\"DOAS_HCHO\"])\n",
    "plt.plot(ISOPOOH_1_2_mdl_input[\"TM\"], ISOPOOH_1_2_mdl_input[\"DOAS_HCHO\"])\n",
    "plt.ylabel(\"PPB\")\n",
    "plt.xlabel(\"Model Time\")\n",
    "plt.legend([\"Model\",\"Obs\"])"
   ]
  },
  {
   "cell_type": "code",
   "execution_count": null,
   "metadata": {},
   "outputs": [],
   "source": [
    "plt.plot(mdl_results[\"TM\"], mdl_results[\"M_MVK_MACR_PTR\"])\n",
    "plt.plot(ISOPOOH_1_2_mdl_input[\"TM\"], ISOPOOH_1_2_mdl_input[\"M_MVK_MACR_PTR\"])\n",
    "plt.ylabel(\"PPB\")\n",
    "plt.xlabel(\"Model Time\")\n",
    "plt.legend([\"Model\",\"Obs\"])"
   ]
  },
  {
   "cell_type": "code",
   "execution_count": null,
   "metadata": {},
   "outputs": [],
   "source": [
    "plt.plot(mdl_results[\"TM\"], mdl_results[\"DOAS_OH\"])\n",
    "test = np.empty([24,1])\n",
    "for item in range(len(ISOPOOH_1_2_mdl_input[\"DOAS_OH\"])):\n",
    "    if item ==0:\n",
    "        test[item] = ISOPOOH_1_2_mdl_input[\"DOAS_OH\"][0]\n",
    "    else:\n",
    "        test[item] = test[item-1]+dOHdt[item]\n",
    "        \n",
    "\n",
    "plt.plot(ISOPOOH_1_2_mdl_input[\"TM\"], ISOPOOH_1_2_mdl_input[\"DOAS_OH\"])\n",
    "#plt.plot(ISOPOOH_1_2_mdl_input[\"TM\"], test)\n",
    "plt.ylabel(\"PPB\")\n",
    "plt.xlabel(\"Model Time\")\n",
    "plt.title(\"DOAS_OH\")\n",
    "plt.legend([\"Model\",\"Obs\", \"dOHdt\"])"
   ]
  },
  {
   "cell_type": "code",
   "execution_count": null,
   "metadata": {},
   "outputs": [],
   "source": [
    "plt.plot(mdl_results[\"TM\"], mdl_results[\"M_ISOPBOOH_PTR\"])\n",
    "plt.plot(ISOPOOH_1_2_mdl_input[\"TM\"], ISOPOOH_1_2_mdl_input[\"M_ISOPBOOH_PTR\"])\n",
    "plt.legend([\"Model\", \"Obs\"])\n",
    "plt.xlabel(\"ppb\")\n",
    "plt.ylabel(\"model time\")\n",
    "plt.title(\"1,2-ISOPOOH\")"
   ]
  }
 ],
 "metadata": {
  "kernelspec": {
   "display_name": "ISOPOOH",
   "language": "python",
   "name": "isopooh"
  },
  "language_info": {
   "codemirror_mode": {
    "name": "ipython",
    "version": 3
   },
   "file_extension": ".py",
   "mimetype": "text/x-python",
   "name": "python",
   "nbconvert_exporter": "python",
   "pygments_lexer": "ipython3",
   "version": "3.7.1"
  }
 },
 "nbformat": 4,
 "nbformat_minor": 2
}
