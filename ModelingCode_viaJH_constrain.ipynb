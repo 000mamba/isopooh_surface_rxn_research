{
 "cells": [
  {
   "cell_type": "markdown",
   "metadata": {},
   "source": [
    "fitting fu"
   ]
  },
  {
   "cell_type": "code",
   "execution_count": 1,
   "metadata": {},
   "outputs": [
    {
     "data": {
      "text/plain": [
       "'C:\\\\Users\\\\tiger\\\\Downloads'"
      ]
     },
     "execution_count": 1,
     "metadata": {},
     "output_type": "execute_result"
    }
   ],
   "source": [
    "import os\n",
    "notebook_wd = os.getcwd()\n",
    "notebook_wd"
   ]
  },
  {
   "cell_type": "code",
   "execution_count": 2,
   "metadata": {},
   "outputs": [
    {
     "data": {
      "text/plain": [
       "'C:\\\\Users\\\\tiger\\\\Desktop\\\\KeutschLab\\\\Python'"
      ]
     },
     "execution_count": 2,
     "metadata": {},
     "output_type": "execute_result"
    }
   ],
   "source": [
    "os.chdir(r'C:\\Users\\tiger\\Desktop\\KeutschLab\\Python')  #insert here code for getting to your scripts or data\n",
    "os.getcwd()"
   ]
  },
  {
   "cell_type": "code",
   "execution_count": 3,
   "metadata": {},
   "outputs": [],
   "source": [
    "import pandas as pd\n",
    "import math\n",
    "import numpy as np\n",
    "import seaborn as sns\n",
    "import matplotlib.pyplot as plt\n",
    "import matplotlib.ticker as ticker\n",
    "from matplotlib import rc\n",
    "from matplotlib.gridspec import GridSpec\n",
    "from scipy.optimize import curve_fit\n",
    "from scipy.integrate import odeint\n",
    "from lmfit import Parameters, minimize\n",
    "\n",
    "%matplotlib inline\n",
    "sns.set_context('talk')"
   ]
  },
  {
   "cell_type": "markdown",
   "metadata": {},
   "source": [
    "model function setup -- g and residuals should not change, but you should change differentials and odes according to the differential equations that you have -- make sure you change both so they're the same, or else you'll run into problems!"
   ]
  },
  {
   "cell_type": "code",
   "execution_count": 4,
   "metadata": {},
   "outputs": [],
   "source": [
    "# define model functions\n",
    "def g(t, y0, coefs, f):\n",
    "    \"\"\"\n",
    "    Solution to the ODE y'(t) = f(t,y,k) with initial condition y0\n",
    "    \"\"\"\n",
    "    y = odeint(f, y0, t, args=(coefs,))\n",
    "\n",
    "    return y\n",
    "\n",
    "# \"differentials\" contains the odes and parameters to be constrained with the model fitting\n",
    "def differentials(y, t, coefs):\n",
    "    \"\"\" Load the coefficients and build the differential equations. Coefs will be fit to the data. \"\"\"\n",
    "\n",
    "    # load all variables -- y[0], y[1]...\n",
    "    X1 = y[0]#ISOPOOH (ISOPBOOH) (1,2)\n",
    "    X2 = y[1]#HCHO\n",
    "    X3 = y[2]#MVK/MACR\n",
    "    X4 = y[3]#OH\n",
    "    #X5 = y[4]#1,2 ISOPOO\n",
    "    #X6 = y[5] #HO2\n",
    "    #X7 = y[6] # NO3\n",
    "\n",
    "    # load all coefficients -- these are defined and params.add() outside of this fn.\n",
    "    #1,2 ISOPOOH + OH --> IEPOX + OH\n",
    "    k1 = (5.00 * 10 ** -11) * 0.92 #coefs['k1'].value\n",
    "    #1,2 ISOPOOH + OH --> 1,2 ISOPOO\n",
    "    k2 = (5.00 * 10 ** -11) * 0.08 #coefs['k2'].value\n",
    "    #1,2 ISOPOO + HO2 --> 1,2 ISOPOOH\n",
    "    #k3 = KRO2HO2*0.706 #coefs['k3'].value\n",
    "    #1,2 ISOPOOH --> HCHO + MVK\n",
    "    k4 = coefs['k4'].value\n",
    "    #HCHO + OH --> CO + HO2\n",
    "    #k5 = (5.40 * 10 ** -12) * np.exp(135/T)\n",
    "    #HCHO + NO3 --> HNO3 + CO + HO2\n",
    "    #k6 = 5.5 * 10 ** -16\n",
    "    #A = coefs['A'].value\n",
    "    #b = coefs['b'].value\n",
    "    #c = coefs['c'].value\n",
    "\n",
    "    # create list of differential equations\n",
    "    #ISOPOOH\n",
    "    dX1dt = - k1 * X1 * X4 - k2 * X1 * X4 - k4 * X1#+ k3 * X5 + X6 \n",
    "    #HCHO\n",
    "    dX2dt = k4 * X1 #- k5 * X2 * X4 - k6 * X2 * X7\n",
    "    #MVK/MACR\n",
    "    dX3dt = k4 * X1\n",
    "    #OH\n",
    "    dX4dt = dOHdt[int(t/15)]/15\n",
    "    #dX4dt = A * math.sin(b*t) + c * t\n",
    "    \n",
    "\n",
    "    return [dX1dt, dX2dt, dX3dt, dX4dt]\n",
    "\n",
    "def residuals(coefs, t, data):\n",
    "    \"\"\" Calculates the residuals of the function. \"\"\"\n",
    "    # load all values defined outside of this fn for each variable at t_start. y0 should match order in y[] above.\n",
    "    y0 = [coefs['X1_0'].value, coefs['X2_0'].value, coefs['X3_0'].value, coefs['X4_0'].value]\n",
    "\n",
    "    # calculates solution to odes, which will be compared against data in the return to get residuals.\n",
    "    model = g(t, y0, coefs, differentials).T\n",
    "\n",
    "    return (model - data).ravel()\n",
    "\n",
    "\n",
    "def odes(ts, coefs):\n",
    "    \"\"\" Recreates the odes above to produce the best fit solution. \"\"\"\n",
    "    def odes(y, t):\n",
    "        X1, X2, X3, X4 = y\n",
    "        \n",
    "        # coefs numbering starts at # of initial conditions.\n",
    "        dydt = [-coefs[4] * X1 * X4 - coefs[5] * X1 * X4, coefs[6] * X1, coefs[6] * X1, dOHdt[int(t/15-48)]/15]\n",
    "        \"\"\"dydt = [-coefs[4] * X1 * X4 - coefs[5] * X1 * X4 - coefs[6] * X1,\\\n",
    "                coefs[6] * X1, coefs[6] * X1,\\\n",
    "                coefs[7] * math.sin(coefs[8] * t) + coefs[9] * t]\n",
    "                \"\"\"\n",
    "        \n",
    "        return dydt\n",
    "\n",
    "    solution = odeint(odes, y0=coefs[0:4], t=ts)#.reshape(-1)\n",
    "\n",
    "    return solution"
   ]
  },
  {
   "cell_type": "markdown",
   "metadata": {},
   "source": [
    "this is a function that i made to spit out parameters (k), inputting the residuals function and your dataframe. xs should be time, and ys should be for starters, isopooh. check formatting!"
   ]
  },
  {
   "cell_type": "code",
   "execution_count": 5,
   "metadata": {},
   "outputs": [],
   "source": [
    "def get_coefficients_with_lmfit(residuals_function, params, df, x_col_name, y_col_names):\n",
    "    \"\"\"Fit parameters (params) with lmfit minimize package. Takes in data (df) as observations for constraining,\n",
    "    and residuals function (residuals_function) which calculates the residuals on params through constraining routine.\n",
    "    Residuals_function contains the required model functions that explain the params.\n",
    "\n",
    "    :param residuals_function:\n",
    "    :param params: Parameters. lmfit parameters object, in which each parameter corresponds to\n",
    "    a \"coefficient\" to be fit.\n",
    "    :param df: dataframe. Contains x_col_name (time values, usually) and y_col_names (corresponding variables).\n",
    "    :param x_col_name: str. Column name containing x variable. Usually column of times at which y values are measured.\n",
    "    :param y_col_names: List of str. Column names containing y variables. Must be ordered as written in model functions.\n",
    "    :return: results. dict? typical of lmfit, contains the fits and standard errors of fits.\n",
    "    \"\"\"\n",
    "\n",
    "    xs = df[x_col_name].values\n",
    "    ys = []\n",
    "    for y_col in y_col_names:\n",
    "        ys.append(df[y_col].values)\n",
    "    ys = np.asarray(ys)\n",
    "\n",
    "    results = minimize(residuals_function, params, args=(xs, ys), method='leastsq', nan_policy='raise')\n",
    "    return results"
   ]
  },
  {
   "cell_type": "markdown",
   "metadata": {},
   "source": [
    "this is the actual code that you run the functions with"
   ]
  },
  {
   "cell_type": "code",
   "execution_count": 6,
   "metadata": {},
   "outputs": [
    {
     "name": "stdout",
     "output_type": "stream",
     "text": [
      "0      6.50\n",
      "1      6.75\n",
      "2      7.00\n",
      "3      7.25\n",
      "4      7.50\n",
      "5      7.75\n",
      "6      8.00\n",
      "7      8.25\n",
      "8      8.50\n",
      "9      8.75\n",
      "10     9.00\n",
      "11     9.25\n",
      "12     9.50\n",
      "13     9.75\n",
      "14    10.00\n",
      "15    10.25\n",
      "16    10.50\n",
      "17    10.75\n",
      "18    11.00\n",
      "19    11.25\n",
      "20    11.50\n",
      "21    11.75\n",
      "22    12.00\n",
      "23    12.25\n",
      "24    12.50\n",
      "25    12.75\n",
      "26    13.00\n",
      "27    13.25\n",
      "28    13.50\n",
      "29    13.75\n",
      "30    14.00\n",
      "31    14.25\n",
      "32    14.50\n",
      "33    14.75\n",
      "Name: TM, dtype: float64\n"
     ]
    }
   ],
   "source": [
    "## import your data first\n",
    "ISOPOOH_1_2 = pd.read_csv (r'treated_data\\ISOPOOHexperiment_1_2.csv')\n",
    "print (ISOPOOH_1_2[\"TM\"])\n",
    "#print(ISOPOOH_1_2[\"DOAS_OH\"])\n",
    "ISOPOOH_1_2\n",
    "\n",
    "#I need to cut the dataframe\n",
    "relevant_species = [\"TM\", \"M_ISOPBOOH_PTR\",\"DOAS_HCHO\", \"M_MVK_MACR_PTR\", \"DOAS_OH\"]\n"
   ]
  },
  {
   "cell_type": "code",
   "execution_count": 7,
   "metadata": {},
   "outputs": [
    {
     "name": "stdout",
     "output_type": "stream",
     "text": [
      "range(10, 34)\n",
      "       TM  M_ISOPBOOH_PTR  DOAS_HCHO  M_MVK_MACR_PTR   DOAS_OH\n",
      "0   12.00       19.833800   8.725928       19.833800  0.000098\n",
      "1   12.25       18.424200   9.959747       18.424200  0.000104\n",
      "2   12.50       16.580867  10.440437       16.580867  0.000110\n",
      "3   12.75       15.600667  10.775586       15.600667  0.000115\n",
      "4   13.00       14.486133  10.714311       14.486133  0.000109\n",
      "5   13.25       13.890733  10.510309       13.890733  0.000172\n",
      "6   13.50       13.318267  10.548607       13.318267  0.000172\n",
      "7   13.75       12.368867  10.661994       12.368867  0.000116\n",
      "8   14.00       11.763267  10.682101       11.763267  0.000147\n",
      "9   14.25       10.951933  10.702669       10.951933  0.000148\n",
      "10  14.50       10.310533  10.599999       10.310533  0.000121\n",
      "11  14.75        9.927387  10.546241        9.927387  0.000057\n",
      "0     6.060579e-06\n",
      "1     6.310956e-06\n",
      "2     4.355270e-06\n",
      "3    -5.325913e-06\n",
      "4     6.301398e-05\n",
      "5    -4.044227e-07\n",
      "6    -5.605803e-05\n",
      "7     3.120092e-05\n",
      "8     8.229229e-07\n",
      "9    -2.669090e-05\n",
      "10   -6.389662e-05\n",
      "11    0.000000e+00\n",
      "Name: DOAS_OH, dtype: float64\n"
     ]
    }
   ],
   "source": [
    "ISOPOOH_1_2_mdl_input = pd.DataFrame()\n",
    "print(range(10,len(ISOPOOH_1_2)))\n",
    "for species in relevant_species:\n",
    "    ISOPOOH_1_2_mdl_input[species] = ISOPOOH_1_2[species][22:]\n",
    "ISOPOOH_1_2_mdl_input = ISOPOOH_1_2_mdl_input.reset_index(drop = True)\n",
    "\n",
    "print(ISOPOOH_1_2_mdl_input)\n",
    "dOHdt = ISOPOOH_1_2_mdl_input[\"DOAS_OH\"].diff()[1:]\n",
    "dOHdt[-1] = 0\n",
    "dOHdt = dOHdt.reset_index(drop =True)\n",
    "print(dOHdt)"
   ]
  },
  {
   "cell_type": "code",
   "execution_count": 8,
   "metadata": {},
   "outputs": [
    {
     "name": "stdout",
     "output_type": "stream",
     "text": [
      "[10]\n",
      "1.5249269297365572e-05\n",
      "[]\n"
     ]
    }
   ],
   "source": [
    "print(ISOPOOH_1_2[ISOPOOH_1_2[\"TM\"]==9.00].index.values)\n",
    "print(ISOPOOH_1_2[\"DOAS_OH\"][10])\n",
    "print(ISOPOOH_1_2_mdl_input[ISOPOOH_1_2_mdl_input[\"TM\"]==9.00].index.values)"
   ]
  },
  {
   "cell_type": "code",
   "execution_count": 9,
   "metadata": {},
   "outputs": [],
   "source": [
    "# define the time series (t_min = 10 because that's when the first measurement was taken with NMR)\n",
    "ISOPOOH_1_2_mdl_input[\"TM_min\"] = ISOPOOH_1_2_mdl_input[\"TM\"] * 60\n",
    "t_min = 720#minutes\n",
    "t_max = 885# minutes\n",
    "t_step = 15\n",
    "ts = np.arange(t_min, t_max,t_step)\n",
    "\n",
    "# define the initial conditions\n",
    "start = 12\n",
    "isopooh0 = ISOPOOH_1_2_mdl_input[\"M_ISOPBOOH_PTR\"][0]\n",
    "X20 = ISOPOOH_1_2_mdl_input[\"DOAS_HCHO\"][0]\n",
    "X30 = ISOPOOH_1_2_mdl_input[\"M_MVK_MACR_PTR\"][0]\n",
    "#idx = 0\n",
    "X40 = ISOPOOH_1_2_mdl_input[\"DOAS_OH\"][0]\n",
    "\n",
    "#1,2 ISOPOOH + OH --> IEPOX + OH\n",
    "k1 = (5.00 * 10 ** -11) * 0.92 #coefs['k1'].value\n",
    "#1,2 ISOPOOH + OH --> 1,2 ISOPOO\n",
    "k2 = (5.00 * 10 ** -11) * 0.08 #coefs['k2'].value\n",
    "#1,2 ISOPOO + HO2 --> 1,2 ISOPOOH\n",
    "#k3 = KRO2HO2*0.706 #coefs['k3'].value\n",
    "#1,2 ISOPOOH --> HCHO + MVK\n",
    "#k4 = coefs['k4'].value\n",
    "\n",
    "# input the parameters\n",
    "params = Parameters()\n",
    "params.add('X1_0', value=isopooh0, vary=False)\n",
    "params.add('X2_0', value=X20, vary=False)\n",
    "params.add('X3_0', value=X30, vary=False)\n",
    "#params.add('idx',value = 0, vary=False)\n",
    "params.add('X4_0', value=X40, vary=False)\n",
    "params.add('k1', value = k1, vary=False)\n",
    "params.add('k2', value = k2, vary=False)\n",
    "params.add('k4', value=.05, min=0, vary=True)\n",
    "#params.add('A', value=.00005,min = 0, vary = True)\n",
    "#params.add('b', value= .04, min = 0, vary = True)\n",
    "#params.add('c', value = .04, min = 0, vary = True)\n"
   ]
  },
  {
   "cell_type": "code",
   "execution_count": 10,
   "metadata": {},
   "outputs": [
    {
     "name": "stdout",
     "output_type": "stream",
     "text": [
      "[19.8338, 8.725928338309004, 19.8338, 9.792312427138336e-05, 4.5999999999999996e-11, 4e-12, 0.016891665268264022]\n"
     ]
    },
    {
     "data": {
      "text/html": [
       "<table><tr><th> name </th><th> value </th><th> standard error </th><th> relative error </th><th> initial value </th><th> min </th><th> max </th><th> vary </th></tr><tr><td> X1_0 </td><td>  19.8338000 </td><td>  0.00000000 </td><td> (0.00%) </td><td> 19.8338 </td><td>        -inf </td><td>         inf </td><td> False </td></tr><tr><td> X2_0 </td><td>  8.72592834 </td><td>  0.00000000 </td><td> (0.00%) </td><td> 8.725928338309004 </td><td>        -inf </td><td>         inf </td><td> False </td></tr><tr><td> X3_0 </td><td>  19.8338000 </td><td>  0.00000000 </td><td> (0.00%) </td><td> 19.8338 </td><td>        -inf </td><td>         inf </td><td> False </td></tr><tr><td> X4_0 </td><td>  9.7923e-05 </td><td>  0.00000000 </td><td> (0.00%) </td><td> 9.792312427138336e-05 </td><td>        -inf </td><td>         inf </td><td> False </td></tr><tr><td> k1 </td><td>  4.6000e-11 </td><td>  0.00000000 </td><td> (0.00%) </td><td> 4.5999999999999996e-11 </td><td>        -inf </td><td>         inf </td><td> False </td></tr><tr><td> k2 </td><td>  4.0000e-12 </td><td>  0.00000000 </td><td> (0.00%) </td><td> 4e-12 </td><td>        -inf </td><td>         inf </td><td> False </td></tr><tr><td> k4 </td><td>  0.01689167 </td><td>  0.02570535 </td><td> (152.18%) </td><td> 0.05 </td><td>  0.00000000 </td><td>         inf </td><td> True </td></tr></table>"
      ],
      "text/plain": [
       "Parameters([('X1_0',\n",
       "             <Parameter 'X1_0', value=19.8338 (fixed), bounds=[-inf:inf]>),\n",
       "            ('X2_0',\n",
       "             <Parameter 'X2_0', value=8.725928338309004 (fixed), bounds=[-inf:inf]>),\n",
       "            ('X3_0',\n",
       "             <Parameter 'X3_0', value=19.8338 (fixed), bounds=[-inf:inf]>),\n",
       "            ('X4_0',\n",
       "             <Parameter 'X4_0', value=9.792312427138336e-05 (fixed), bounds=[-inf:inf]>),\n",
       "            ('k1',\n",
       "             <Parameter 'k1', value=4.5999999999999996e-11 (fixed), bounds=[-inf:inf]>),\n",
       "            ('k2', <Parameter 'k2', value=4e-12 (fixed), bounds=[-inf:inf]>),\n",
       "            ('k4',\n",
       "             <Parameter 'k4', value=0.016891665268264022 +/- 0.0257, bounds=[0:inf]>)])"
      ]
     },
     "execution_count": 10,
     "metadata": {},
     "output_type": "execute_result"
    }
   ],
   "source": [
    "# perform the fitting with custom-built wrapper\n",
    "results = get_coefficients_with_lmfit(residuals_function=residuals, \n",
    "                                      params=params, \n",
    "                                      df=ISOPOOH_1_2_mdl_input, \n",
    "                                      x_col_name= \"TM\", \n",
    "                                      y_col_names=[\"M_ISOPBOOH_PTR\",\"DOAS_HCHO\", \"M_MVK_MACR_PTR\", \"DOAS_OH\"])\n",
    "\n",
    "# store the coefficients\n",
    "coefs = []\n",
    "for key in results.params:\n",
    "    coefs.append(results.params[key].value)\n",
    "    \n",
    "print(coefs)\n",
    "results.params"
   ]
  },
  {
   "cell_type": "code",
   "execution_count": 11,
   "metadata": {},
   "outputs": [
    {
     "name": "stdout",
     "output_type": "stream",
     "text": [
      "0     0.000098\n",
      "1     0.000104\n",
      "2     0.000110\n",
      "3     0.000115\n",
      "4     0.000109\n",
      "5     0.000172\n",
      "6     0.000172\n",
      "7     0.000116\n",
      "8     0.000147\n",
      "9     0.000148\n",
      "10    0.000121\n",
      "Name: DOAS_OH, dtype: float64\n",
      "0     0.000098\n",
      "1     0.000104\n",
      "2     0.000110\n",
      "3     0.000115\n",
      "4     0.000109\n",
      "5     0.000172\n",
      "6     0.000172\n",
      "7     0.000116\n",
      "8     0.000147\n",
      "9     0.000148\n",
      "10    0.000121\n",
      "11    0.000057\n",
      "Name: DOAS_OH, dtype: float64\n",
      "0     6.060579e-06\n",
      "1     6.310956e-06\n",
      "2     4.355270e-06\n",
      "3    -5.325913e-06\n",
      "4     6.301398e-05\n",
      "5    -4.044227e-07\n",
      "6    -5.605803e-05\n",
      "7     3.120092e-05\n",
      "8     8.229229e-07\n",
      "9    -2.669090e-05\n",
      "10   -6.389662e-05\n",
      "11    0.000000e+00\n",
      "Name: DOAS_OH, dtype: float64\n",
      "0              NaN\n",
      "1     6.076802e-06\n",
      "2     6.302348e-06\n",
      "3     4.339864e-06\n",
      "4    -5.315391e-06\n",
      "5     6.300530e-05\n",
      "6    -4.012682e-07\n",
      "7    -5.605344e-05\n",
      "8     3.119793e-05\n",
      "9     8.171767e-07\n",
      "10   -2.669407e-05\n",
      "Name: DOAS_OH, dtype: float64\n"
     ]
    }
   ],
   "source": [
    "solutions = odes(ts, coefs)\n",
    "important_species = [\"M_ISOPBOOH_PTR\",\"DOAS_HCHO\", \"M_MVK_MACR_PTR\", \"DOAS_OH\"]\n",
    "mdl_results = pd.DataFrame()\n",
    "\n",
    "for i in range(len(important_species)):\n",
    "    mdl_results[important_species[i]] = solutions[:,i]\n",
    "    \n",
    "mdl_results[\"TM\"] = ISOPOOH_1_2_mdl_input[\"TM\"]\n",
    "print(mdl_results[\"DOAS_OH\"])\n",
    "print(ISOPOOH_1_2_mdl_input[\"DOAS_OH\"])\n",
    "#how do i properly constrain this?\n",
    "print(dOHdt)\n",
    "print(mdl_results[\"DOAS_OH\"].diff())"
   ]
  },
  {
   "cell_type": "code",
   "execution_count": 12,
   "metadata": {},
   "outputs": [
    {
     "data": {
      "text/plain": [
       "Text(0.5, 1.0, '1,2-ISOPOOH')"
      ]
     },
     "execution_count": 12,
     "metadata": {},
     "output_type": "execute_result"
    },
    {
     "data": {
      "image/png": "[encoded data removed]",
      "text/plain": [
       "<Figure size 432x288 with 1 Axes>"
      ]
     },
     "metadata": {
      "needs_background": "light"
     },
     "output_type": "display_data"
    }
   ],
   "source": [
    "plt.plot(mdl_results[\"TM\"], mdl_results[\"M_ISOPBOOH_PTR\"])\n",
    "plt.plot(ISOPOOH_1_2_mdl_input[\"TM\"], ISOPOOH_1_2_mdl_input[\"M_ISOPBOOH_PTR\"])\n",
    "plt.ylabel(\"PPB\")\n",
    "plt.xlabel(\"Model Time\")\n",
    "plt.legend([\"Model\",\"Obs\"])\n",
    "plt.title(\"1,2-ISOPOOH\")"
   ]
  },
  {
   "cell_type": "code",
   "execution_count": 13,
   "metadata": {},
   "outputs": [
    {
     "data": {
      "text/plain": [
       "<matplotlib.legend.Legend at 0x1af27bc5828>"
      ]
     },
     "execution_count": 13,
     "metadata": {},
     "output_type": "execute_result"
    },
    {
     "data": {
      "image/png": "[encoded data removed]",
      "text/plain": [
       "<Figure size 432x288 with 1 Axes>"
      ]
     },
     "metadata": {
      "needs_background": "light"
     },
     "output_type": "display_data"
    }
   ],
   "source": [
    "plt.plot(mdl_results[\"TM\"], mdl_results[\"DOAS_HCHO\"])\n",
    "plt.plot(ISOPOOH_1_2_mdl_input[\"TM\"], ISOPOOH_1_2_mdl_input[\"DOAS_HCHO\"])\n",
    "plt.ylabel(\"PPB\")\n",
    "plt.xlabel(\"Model Time\")\n",
    "plt.legend([\"Model\",\"Obs\"])"
   ]
  },
  {
   "cell_type": "code",
   "execution_count": 14,
   "metadata": {},
   "outputs": [
    {
     "data": {
      "text/plain": [
       "<matplotlib.legend.Legend at 0x1af27c26cc0>"
      ]
     },
     "execution_count": 14,
     "metadata": {},
     "output_type": "execute_result"
    },
    {
     "data": {
      "image/png": "[encoded data removed]",
      "text/plain": [
       "<Figure size 432x288 with 1 Axes>"
      ]
     },
     "metadata": {
      "needs_background": "light"
     },
     "output_type": "display_data"
    }
   ],
   "source": [
    "plt.plot(mdl_results[\"TM\"], mdl_results[\"M_MVK_MACR_PTR\"])\n",
    "plt.plot(ISOPOOH_1_2_mdl_input[\"TM\"], ISOPOOH_1_2_mdl_input[\"M_MVK_MACR_PTR\"])\n",
    "plt.ylabel(\"PPB\")\n",
    "plt.xlabel(\"Model Time\")\n",
    "plt.legend([\"Model\",\"Obs\"])"
   ]
  },
  {
   "cell_type": "code",
   "execution_count": 15,
   "metadata": {},
   "outputs": [
    {
     "data": {
      "text/plain": [
       "<matplotlib.legend.Legend at 0x1af27c89390>"
      ]
     },
     "execution_count": 15,
     "metadata": {},
     "output_type": "execute_result"
    },
    {
     "data": {
      "image/png": "[encoded data removed]",
      "text/plain": [
       "<Figure size 432x288 with 1 Axes>"
      ]
     },
     "metadata": {
      "needs_background": "light"
     },
     "output_type": "display_data"
    }
   ],
   "source": [
    "plt.plot(mdl_results[\"TM\"], mdl_results[\"DOAS_OH\"])\n",
    "test = np.empty([24,1])\n",
    "for item in range(len(ISOPOOH_1_2_mdl_input[\"DOAS_OH\"])):\n",
    "    if item ==0:\n",
    "        test[item] = ISOPOOH_1_2_mdl_input[\"DOAS_OH\"][0]\n",
    "    else:\n",
    "        test[item] = test[item-1]+dOHdt[item]\n",
    "        \n",
    "\n",
    "plt.plot(ISOPOOH_1_2_mdl_input[\"TM\"], ISOPOOH_1_2_mdl_input[\"DOAS_OH\"])\n",
    "#plt.plot(ISOPOOH_1_2_mdl_input[\"TM\"], test)\n",
    "plt.ylabel(\"PPB\")\n",
    "plt.xlabel(\"Model Time\")\n",
    "plt.title(\"DOAS_OH\")\n",
    "plt.legend([\"Model\",\"Obs\", \"dOHdt\"])"
   ]
  },
  {
   "cell_type": "code",
   "execution_count": 16,
   "metadata": {},
   "outputs": [
    {
     "data": {
      "text/plain": [
       "Text(0.5, 1.0, '1,2-ISOPOOH')"
      ]
     },
     "execution_count": 16,
     "metadata": {},
     "output_type": "execute_result"
    },
    {
     "data": {
      "image/png": "[encoded data removed]",
      "text/plain": [
       "<Figure size 432x288 with 1 Axes>"
      ]
     },
     "metadata": {
      "needs_background": "light"
     },
     "output_type": "display_data"
    }
   ],
   "source": [
    "plt.plot(mdl_results[\"TM\"], mdl_results[\"M_ISOPBOOH_PTR\"])\n",
    "plt.plot(ISOPOOH_1_2_mdl_input[\"TM\"], ISOPOOH_1_2_mdl_input[\"M_ISOPBOOH_PTR\"])\n",
    "plt.legend([\"Model\", \"Obs\"])\n",
    "plt.xlabel(\"ppb\")\n",
    "plt.ylabel(\"model time\")\n",
    "plt.title(\"1,2-ISOPOOH\")"
   ]
  }
 ],
 "metadata": {
  "kernelspec": {
   "display_name": "ISOPOOH",
   "language": "python",
   "name": "isopooh"
  },
  "language_info": {
   "codemirror_mode": {
    "name": "ipython",
    "version": 3
   },
   "file_extension": ".py",
   "mimetype": "text/x-python",
   "name": "python",
   "nbconvert_exporter": "python",
   "pygments_lexer": "ipython3",
   "version": "3.7.1"
  }
 },
 "nbformat": 4,
 "nbformat_minor": 2
}
